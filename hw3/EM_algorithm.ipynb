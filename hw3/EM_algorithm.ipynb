{
 "cells": [
  {
   "cell_type": "code",
   "execution_count": 218,
   "metadata": {
    "collapsed": true
   },
   "outputs": [],
   "source": [
    "import random\n",
    "import csv\n",
    "import scipy\n",
    "import numpy as np\n",
    "import pandas as pd\n",
    "from scipy.stats import multivariate_normal as mvn\n",
    "import matplotlib.pyplot as plt\n",
    "import sklearn.preprocessing as preprocessing\n",
    "from matplotlib.ticker import NullFormatter\n",
    "from sklearn.cluster import k_means\n",
    "%matplotlib inline"
   ]
  },
  {
   "cell_type": "code",
   "execution_count": 219,
   "metadata": {
    "collapsed": false
   },
   "outputs": [],
   "source": [
    "gayser = pd.read_csv(\"gayser.csv\", sep=\"\\s+\")"
   ]
  },
  {
   "cell_type": "code",
   "execution_count": 220,
   "metadata": {
    "collapsed": true
   },
   "outputs": [],
   "source": [
    "# 1a rescaling the data - function\n",
    "def rescale_to_0_1 (data):\n",
    "    top = np.max(data)\n",
    "    bot = np.min(data)\n",
    "    return (data - bot)/(top - bot)"
   ]
  },
  {
   "cell_type": "code",
   "execution_count": 221,
   "metadata": {
    "collapsed": true
   },
   "outputs": [],
   "source": [
    "# 1a rescaling the data - effectively\n",
    "gayser['eruptions'] = rescale_to_0_1(gayser['eruptions'])\n",
    "gayser['waiting'] = rescale_to_0_1(gayser['waiting'])"
   ]
  },
  {
   "cell_type": "code",
   "execution_count": 252,
   "metadata": {
    "collapsed": false
   },
   "outputs": [
    {
     "data": {
      "image/png": "[encoded data removed]",
      "text/plain": [
       "<matplotlib.figure.Figure at 0x12144e240>"
      ]
     },
     "metadata": {},
     "output_type": "display_data"
    }
   ],
   "source": [
    "plt.scatter(gayser['eruptions'], gayser['waiting'], c='r', alpha=0.5)\n",
    "plt.title('Geyser Data')\n",
    "plt.xlabel('Eruptions Time')\n",
    "plt.ylabel('Waiting Time')\n",
    "plt.axis([0,1,0,1])\n",
    "plt.show()"
   ]
  },
  {
   "cell_type": "code",
   "execution_count": 223,
   "metadata": {
    "collapsed": false
   },
   "outputs": [],
   "source": [
    "data_set = np.asarray(gayser)"
   ]
  },
  {
   "cell_type": "code",
   "execution_count": 224,
   "metadata": {
    "collapsed": false
   },
   "outputs": [],
   "source": [
    "def initialize(X):\n",
    "    p = len(X[0])    \n",
    "    weight = [.5,.5]\n",
    "    mean = X[np.random.choice(p, 2, False)]\n",
    "    cov = np.zeros((2,p,p))\n",
    "    for j in range(2):\n",
    "        for i in range(p):\n",
    "            cov[j,i,i] = 0.5+random.random()*10\n",
    "\n",
    "    return weight,mean,cov"
   ]
  },
  {
   "cell_type": "code",
   "execution_count": 225,
   "metadata": {
    "collapsed": false
   },
   "outputs": [],
   "source": [
    "pis,mus,sigmas = random_init(data_set)"
   ]
  },
  {
   "cell_type": "code",
   "execution_count": 226,
   "metadata": {
    "collapsed": true
   },
   "outputs": [],
   "source": [
    "def E_step(X,m,n,weight,means,cov):\n",
    "        resp = np.zeros((m,n))\n",
    "        for j in range(m):\n",
    "            for i in range(n):\n",
    "                resp[j,i] = weight[j] * mvn(means[j],cov[j]).pdf(X[i])\n",
    "        resp /= resp.sum(0)\n",
    "        return resp"
   ]
  },
  {
   "cell_type": "code",
   "execution_count": 227,
   "metadata": {
    "collapsed": true
   },
   "outputs": [],
   "source": [
    "def M_step (m,n,resp):\n",
    "        weight = np.zeros(m)\n",
    "        for j in range(m):\n",
    "            for i in range(n):\n",
    "                weight[j] += resp[j,i]\n",
    "        weight /= n\n",
    "        return weight"
   ]
  },
  {
   "cell_type": "code",
   "execution_count": 228,
   "metadata": {
    "collapsed": true
   },
   "outputs": [],
   "source": [
    "def sigmas_calc(m,p,n,X,mean,resp):\n",
    "    cov = np.zeros((m,p,p))\n",
    "    for j in range(m):\n",
    "        for i in range(n):\n",
    "            Y = np.reshape(X[i] - mean[j], (2,1))\n",
    "            cov[j] += resp[j, i] * np.dot(Y, Y.T)\n",
    "        cov[j] /= resp[j,:].sum()\n",
    "    return cov"
   ]
  },
  {
   "cell_type": "code",
   "execution_count": 229,
   "metadata": {
    "collapsed": false
   },
   "outputs": [],
   "source": [
    "def mus_calc (X, resp, m, p, n):\n",
    "    mean = np.zeros((m, p))\n",
    "    for j in range(m):\n",
    "        for i in range(n):\n",
    "            mean[j] += resp[j, i] * X[i]\n",
    "        mean[j] /= resp[j, :].sum()\n",
    "    return mean"
   ]
  },
  {
   "cell_type": "code",
   "execution_count": 230,
   "metadata": {
    "collapsed": false
   },
   "outputs": [],
   "source": [
    "def log_likelihood_calc(n, m, weight, mean, cov, X):\n",
    "    log_likelihood = 0.0\n",
    "    for i in range(n):\n",
    "        sum_to_log = 0\n",
    "        for j in range(m):\n",
    "            sum_to_log += weight[j] * mvn(mean[j], cov[j]).pdf(X[i])\n",
    "    log_likelihood += np.log(sum_to_log)\n",
    "    return log_likelihood"
   ]
  },
  {
   "cell_type": "code",
   "execution_count": 231,
   "metadata": {
    "collapsed": true
   },
   "outputs": [],
   "source": [
    "def EM_steps(X, size, mean, cov, tolerance=0.00000001, maxiter=100):\n",
    "    \n",
    "    n = len(X)\n",
    "    p = len(X[0]) \n",
    "    m = len(size)\n",
    "    \n",
    "    ll_old = 0.0\n",
    "    iter_count = 0\n",
    "    mu_vector = []\n",
    "    mu_vector.append(mean)\n",
    "    \n",
    "    for i in range(maxiter):\n",
    "        responsibility = E_step(X, m, n, size, mean, cov)\n",
    "        size = M_step(m,n,responsibility)\n",
    "        mu_vector.append(mus_calc(X, responsibility, m, p, m))\n",
    "        cov = sigmas_calc(m, p, n, X, mean, responsibility)\n",
    "        ll_new = log_likelihood_calc(n, m, size, mean, cov, X)\n",
    "        iter_count += 1\n",
    "\n",
    "        if np.abs(ll_new - ll_old) < tolerance:\n",
    "            break\n",
    "        else:\n",
    "            ll_old = ll_new\n",
    "            \n",
    "    mu_vector = np.array(mu_vector)\n",
    "\n",
    "    return iter_count,mu_vector,size, mean, cov"
   ]
  },
  {
   "cell_type": "code",
   "execution_count": 232,
   "metadata": {
    "collapsed": false
   },
   "outputs": [],
   "source": [
    "iter_count,mu_vector,pis,mus,sigmas = EM_steps(data_set, pis, mus, sigmas)"
   ]
  },
  {
   "cell_type": "code",
   "execution_count": 254,
   "metadata": {
    "collapsed": false
   },
   "outputs": [
    {
     "data": {
      "image/png": "[encoded data removed]",
      "text/plain": [
       "<matplotlib.figure.Figure at 0x121465208>"
      ]
     },
     "metadata": {},
     "output_type": "display_data"
    }
   ],
   "source": [
    "plt.title(\"Mean Trajectories; direction: from inside out\")\n",
    "plt.xlabel('Erruption Time (min)')\n",
    "plt.ylabel('Waiting Time (min)')\n",
    "plt.axis([0,1,0,1])\n",
    "data0 = mu_vector[:,0]\n",
    "data1 = mu_vector[:,1]\n",
    "plt.plot(data0[:,0], data0[:,1], '-o', color='red')\n",
    "plt.plot(data1[:,0], data1[:,1], '-o', color='orange')\n",
    "plt.show()"
   ]
  },
  {
   "cell_type": "code",
   "execution_count": 240,
   "metadata": {
    "collapsed": false
   },
   "outputs": [
    {
     "data": {
      "image/png": "[encoded data removed]",
      "text/plain": [
       "<matplotlib.figure.Figure at 0x120d287f0>"
      ]
     },
     "metadata": {},
     "output_type": "display_data"
    }
   ],
   "source": [
    "iter_count = 0\n",
    "iteration = []\n",
    "for i in range(50):\n",
    "    pis,mus,sigmas = initialize(data_set)\n",
    "    iter_count = EM_steps(data_set, pis, mus, sigmas)[0]\n",
    "    iteration.append(iter_count)\n",
    "    \n",
    "plt.xlabel(\"number of iterations\")\n",
    "plt.ylabel(\"frequency\")\n",
    "plt.hist(iteration,bins=10)\n",
    "plt.show()"
   ]
  },
  {
   "cell_type": "code",
   "execution_count": 250,
   "metadata": {
    "collapsed": false
   },
   "outputs": [
    {
     "data": {
      "image/png": "[encoded data removed]",
      "text/plain": [
       "<matplotlib.figure.Figure at 0x120c158d0>"
      ]
     },
     "metadata": {},
     "output_type": "display_data"
    }
   ],
   "source": [
    "K_iter_count = 0\n",
    "K_iteration = []\n",
    "for i in range(50):\n",
    "    pis,mus,sigmas = kmeans_run(data_set)\n",
    "    K_iter_count, mu_vector, pis, mus, sigmas = EM_steps(data_set, pis, mus, sigmas)\n",
    "    K_iteration.append(K_iter_count)\n",
    "    \n",
    "plt.xlabel(\"number of iterations\")\n",
    "plt.ylabel(\"frequency\")\n",
    "plt.hist(K_iteration,bins=10)\n",
    "plt.show()"
   ]
  },
  {
   "cell_type": "code",
   "execution_count": 246,
   "metadata": {
    "collapsed": true
   },
   "outputs": [],
   "source": [
    "def kmeans_assist(cluster, mean, cov):\n",
    "    for i in range(len(cluster)):\n",
    "        y = np.reshape(cluster[i]-mean, (2,1))\n",
    "        cov += np.dot(y, y.T)\n",
    "    cov /= len(cluster)\n",
    "    return cov"
   ]
  },
  {
   "cell_type": "code",
   "execution_count": 247,
   "metadata": {
    "collapsed": false
   },
   "outputs": [],
   "source": [
    "from sklearn.cluster import k_means\n",
    "\n",
    "def kmeans_run(X):\n",
    "    clusters = [[],[]]\n",
    "    means = []\n",
    "    sigmas = []\n",
    "    \n",
    "    y = k_means(X,2)[1]\n",
    "    for i in range(len(y)):\n",
    "        clusters[y[i]].append(X[i]) #use the mean of the cluster as your first guess\n",
    "    \n",
    "    pi = float(len(clusters[0]))\n",
    "    pi /= float(len(y))\n",
    "    pis = [pi,1-pi] \n",
    "\n",
    "    for i in range(2):\n",
    "        cluster = clusters[i]\n",
    "        mean = np.average(cluster,axis=0) \n",
    "        means.append(mean)\n",
    "        cov = np.zeros((2,2))\n",
    "        sigmas.append(kmeans_assist(cluster, mean, cov))\n",
    "\n",
    "    return pis,means,sigmas"
   ]
  }
 ],
 "metadata": {
  "anaconda-cloud": {},
  "kernelspec": {
   "display_name": "Python [Root]",
   "language": "python",
   "name": "Python [Root]"
  },
  "language_info": {
   "codemirror_mode": {
    "name": "ipython",
    "version": 3
   },
   "file_extension": ".py",
   "mimetype": "text/x-python",
   "name": "python",
   "nbconvert_exporter": "python",
   "pygments_lexer": "ipython3",
   "version": "3.5.2"
  }
 },
 "nbformat": 4,
 "nbformat_minor": 0
}
