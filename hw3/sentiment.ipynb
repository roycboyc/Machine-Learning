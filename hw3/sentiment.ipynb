{
 "cells": [
  {
   "cell_type": "code",
   "execution_count": 1,
   "metadata": {
    "collapsed": false
   },
   "outputs": [],
   "source": [
    "%matplotlib inline"
   ]
  },
  {
   "cell_type": "code",
   "execution_count": 80,
   "metadata": {
    "collapsed": true
   },
   "outputs": [],
   "source": [
    "import pandas as pd\n",
    "import numpy as np\n",
    "from numpy import linalg\n",
    "import re\n",
    "from sklearn import preprocessing\n",
    "from nltk.stem.porter import *\n",
    "from sklearn.linear_model import LogisticRegression\n",
    "from sklearn.metrics import confusion_matrix\n",
    "from sklearn.cluster import k_means\n",
    "from sklearn.metrics import accuracy_score"
   ]
  },
  {
   "cell_type": "markdown",
   "metadata": {},
   "source": [
    "#### Load the Data"
   ]
  },
  {
   "cell_type": "code",
   "execution_count": 81,
   "metadata": {
    "collapsed": false
   },
   "outputs": [],
   "source": [
    "def load(file):\n",
    "    df = []\n",
    "    with open(file, 'r') as f:\n",
    "        for line in f.readlines():\n",
    "            n = line.strip().split('\\t')\n",
    "            if len(n) == 2:\n",
    "                df.append({'review' : n[0], 'label' : int(n[1])}) \n",
    "    return pd.DataFrame(df)"
   ]
  },
  {
   "cell_type": "code",
   "execution_count": 82,
   "metadata": {
    "collapsed": true
   },
   "outputs": [],
   "source": [
    "#Load the Data\n",
    "yelp = load('yelp_labelled.txt')\n",
    "amazon = load('amazon_cells_labelled.txt')\n",
    "imdb = load('imdb_labelled.txt')"
   ]
  },
  {
   "cell_type": "markdown",
   "metadata": {},
   "source": [
    "#### Inspect Ratio"
   ]
  },
  {
   "cell_type": "code",
   "execution_count": 83,
   "metadata": {
    "collapsed": false
   },
   "outputs": [
    {
     "data": {
      "text/plain": [
       "1    500\n",
       "0    500\n",
       "Name: label, dtype: int64"
      ]
     },
     "execution_count": 83,
     "metadata": {},
     "output_type": "execute_result"
    }
   ],
   "source": [
    "yelp['label'].value_counts()"
   ]
  },
  {
   "cell_type": "code",
   "execution_count": 84,
   "metadata": {
    "collapsed": false
   },
   "outputs": [
    {
     "data": {
      "text/plain": [
       "1    500\n",
       "0    500\n",
       "Name: label, dtype: int64"
      ]
     },
     "execution_count": 84,
     "metadata": {},
     "output_type": "execute_result"
    }
   ],
   "source": [
    "amazon['label'].value_counts()"
   ]
  },
  {
   "cell_type": "code",
   "execution_count": 85,
   "metadata": {
    "collapsed": false
   },
   "outputs": [
    {
     "data": {
      "text/plain": [
       "1    500\n",
       "0    500\n",
       "Name: label, dtype: int64"
      ]
     },
     "execution_count": 85,
     "metadata": {},
     "output_type": "execute_result"
    }
   ],
   "source": [
    "imdb['label'].value_counts()"
   ]
  },
  {
   "cell_type": "markdown",
   "metadata": {},
   "source": [
    "#### Pre-Processing"
   ]
  },
  {
   "cell_type": "code",
   "execution_count": 86,
   "metadata": {
    "collapsed": false
   },
   "outputs": [
    {
     "data": {
      "text/html": [
       "<div>\n",
       "<table border=\"1\" class=\"dataframe\">\n",
       "  <thead>\n",
       "    <tr style=\"text-align: right;\">\n",
       "      <th></th>\n",
       "      <th>label</th>\n",
       "      <th>review</th>\n",
       "    </tr>\n",
       "  </thead>\n",
       "  <tbody>\n",
       "    <tr>\n",
       "      <th>0</th>\n",
       "      <td>0</td>\n",
       "      <td>a very, very, very slow-moving, aimless movie ...</td>\n",
       "    </tr>\n",
       "    <tr>\n",
       "      <th>1</th>\n",
       "      <td>0</td>\n",
       "      <td>not sure who was more lost - the flat characte...</td>\n",
       "    </tr>\n",
       "    <tr>\n",
       "      <th>2</th>\n",
       "      <td>0</td>\n",
       "      <td>attempting artiness with black &amp; white and cle...</td>\n",
       "    </tr>\n",
       "    <tr>\n",
       "      <th>3</th>\n",
       "      <td>0</td>\n",
       "      <td>very little music or anything to speak of.</td>\n",
       "    </tr>\n",
       "    <tr>\n",
       "      <th>4</th>\n",
       "      <td>1</td>\n",
       "      <td>the best scene in the movie was when gerardo i...</td>\n",
       "    </tr>\n",
       "    <tr>\n",
       "      <th>5</th>\n",
       "      <td>0</td>\n",
       "      <td>the rest of the movie lacks art, charm, meanin...</td>\n",
       "    </tr>\n",
       "    <tr>\n",
       "      <th>6</th>\n",
       "      <td>0</td>\n",
       "      <td>wasted two hours.</td>\n",
       "    </tr>\n",
       "    <tr>\n",
       "      <th>7</th>\n",
       "      <td>1</td>\n",
       "      <td>saw the movie today and thought it was a good ...</td>\n",
       "    </tr>\n",
       "    <tr>\n",
       "      <th>8</th>\n",
       "      <td>0</td>\n",
       "      <td>a bit predictable.</td>\n",
       "    </tr>\n",
       "    <tr>\n",
       "      <th>9</th>\n",
       "      <td>1</td>\n",
       "      <td>loved the casting of jimmy buffet as the scien...</td>\n",
       "    </tr>\n",
       "    <tr>\n",
       "      <th>10</th>\n",
       "      <td>1</td>\n",
       "      <td>and those baby owls were adorable.</td>\n",
       "    </tr>\n",
       "    <tr>\n",
       "      <th>11</th>\n",
       "      <td>1</td>\n",
       "      <td>the movie showed a lot of florida at it's best...</td>\n",
       "    </tr>\n",
       "    <tr>\n",
       "      <th>12</th>\n",
       "      <td>1</td>\n",
       "      <td>the songs were the best and the muppets were s...</td>\n",
       "    </tr>\n",
       "    <tr>\n",
       "      <th>13</th>\n",
       "      <td>1</td>\n",
       "      <td>it was so cool.</td>\n",
       "    </tr>\n",
       "    <tr>\n",
       "      <th>14</th>\n",
       "      <td>1</td>\n",
       "      <td>this is a very \"right on case\" movie that deli...</td>\n",
       "    </tr>\n",
       "    <tr>\n",
       "      <th>15</th>\n",
       "      <td>0</td>\n",
       "      <td>it had some average acting from the main perso...</td>\n",
       "    </tr>\n",
       "    <tr>\n",
       "      <th>16</th>\n",
       "      <td>1</td>\n",
       "      <td>this review is long overdue, since i consider ...</td>\n",
       "    </tr>\n",
       "    <tr>\n",
       "      <th>17</th>\n",
       "      <td>1</td>\n",
       "      <td>i'll put this gem up against any movie in term...</td>\n",
       "    </tr>\n",
       "    <tr>\n",
       "      <th>18</th>\n",
       "      <td>1</td>\n",
       "      <td>it's practically perfect in all of them  a tr...</td>\n",
       "    </tr>\n",
       "    <tr>\n",
       "      <th>19</th>\n",
       "      <td>1</td>\n",
       "      <td>\" the structure of this film is easily the mos...</td>\n",
       "    </tr>\n",
       "    <tr>\n",
       "      <th>20</th>\n",
       "      <td>1</td>\n",
       "      <td>i can think of no other film where something v...</td>\n",
       "    </tr>\n",
       "    <tr>\n",
       "      <th>21</th>\n",
       "      <td>1</td>\n",
       "      <td>in other words, the content level of this film...</td>\n",
       "    </tr>\n",
       "    <tr>\n",
       "      <th>22</th>\n",
       "      <td>1</td>\n",
       "      <td>how can anyone in their right mind ask for any...</td>\n",
       "    </tr>\n",
       "    <tr>\n",
       "      <th>23</th>\n",
       "      <td>1</td>\n",
       "      <td>it's quite simply the highest, most superlativ...</td>\n",
       "    </tr>\n",
       "    <tr>\n",
       "      <th>24</th>\n",
       "      <td>1</td>\n",
       "      <td>yes, this film does require a rather significa...</td>\n",
       "    </tr>\n",
       "    <tr>\n",
       "      <th>25</th>\n",
       "      <td>0</td>\n",
       "      <td>this short film certainly pulls no punches.</td>\n",
       "    </tr>\n",
       "    <tr>\n",
       "      <th>26</th>\n",
       "      <td>0</td>\n",
       "      <td>graphics is far from the best part of the game.</td>\n",
       "    </tr>\n",
       "    <tr>\n",
       "      <th>27</th>\n",
       "      <td>1</td>\n",
       "      <td>this is the number one best th game in the ser...</td>\n",
       "    </tr>\n",
       "    <tr>\n",
       "      <th>28</th>\n",
       "      <td>1</td>\n",
       "      <td>it deserves strong love.</td>\n",
       "    </tr>\n",
       "    <tr>\n",
       "      <th>29</th>\n",
       "      <td>1</td>\n",
       "      <td>it is an insane game.</td>\n",
       "    </tr>\n",
       "    <tr>\n",
       "      <th>...</th>\n",
       "      <td>...</td>\n",
       "      <td>...</td>\n",
       "    </tr>\n",
       "    <tr>\n",
       "      <th>970</th>\n",
       "      <td>1</td>\n",
       "      <td>enough can not be said of the remarkable anima...</td>\n",
       "    </tr>\n",
       "    <tr>\n",
       "      <th>971</th>\n",
       "      <td>1</td>\n",
       "      <td>the art style has the appearance of crayon/pen...</td>\n",
       "    </tr>\n",
       "    <tr>\n",
       "      <th>972</th>\n",
       "      <td>0</td>\n",
       "      <td>if you act in such a film, you should be glad ...</td>\n",
       "    </tr>\n",
       "    <tr>\n",
       "      <th>973</th>\n",
       "      <td>0</td>\n",
       "      <td>this one wants to surf on the small wave of sp...</td>\n",
       "    </tr>\n",
       "    <tr>\n",
       "      <th>974</th>\n",
       "      <td>0</td>\n",
       "      <td>if you haven't choked in your own vomit by the...</td>\n",
       "    </tr>\n",
       "    <tr>\n",
       "      <th>975</th>\n",
       "      <td>1</td>\n",
       "      <td>still, it makes up for all of this with a supe...</td>\n",
       "    </tr>\n",
       "    <tr>\n",
       "      <th>976</th>\n",
       "      <td>1</td>\n",
       "      <td>just consider the excellent story, solid actin...</td>\n",
       "    </tr>\n",
       "    <tr>\n",
       "      <th>977</th>\n",
       "      <td>0</td>\n",
       "      <td>instead, we got a bore fest about a whiny, spo...</td>\n",
       "    </tr>\n",
       "    <tr>\n",
       "      <th>978</th>\n",
       "      <td>1</td>\n",
       "      <td>then i watched it again two sundays ago (march...</td>\n",
       "    </tr>\n",
       "    <tr>\n",
       "      <th>979</th>\n",
       "      <td>1</td>\n",
       "      <td>it is a very well acted and done tv movie.</td>\n",
       "    </tr>\n",
       "    <tr>\n",
       "      <th>980</th>\n",
       "      <td>1</td>\n",
       "      <td>judith light is one of my favorite actresses a...</td>\n",
       "    </tr>\n",
       "    <tr>\n",
       "      <th>981</th>\n",
       "      <td>1</td>\n",
       "      <td>i keep watching it over and over.</td>\n",
       "    </tr>\n",
       "    <tr>\n",
       "      <th>982</th>\n",
       "      <td>1</td>\n",
       "      <td>it's a sad movie, but very good.</td>\n",
       "    </tr>\n",
       "    <tr>\n",
       "      <th>983</th>\n",
       "      <td>1</td>\n",
       "      <td>if you have not seen this movie, i definitely ...</td>\n",
       "    </tr>\n",
       "    <tr>\n",
       "      <th>984</th>\n",
       "      <td>1</td>\n",
       "      <td>she is as lovely as usual, this cutie!</td>\n",
       "    </tr>\n",
       "    <tr>\n",
       "      <th>985</th>\n",
       "      <td>1</td>\n",
       "      <td>still it's quite interesting and entertaining ...</td>\n",
       "    </tr>\n",
       "    <tr>\n",
       "      <th>986</th>\n",
       "      <td>1</td>\n",
       "      <td>;) recommend with confidence!</td>\n",
       "    </tr>\n",
       "    <tr>\n",
       "      <th>987</th>\n",
       "      <td>1</td>\n",
       "      <td>this movie is well-balanced with comedy and dr...</td>\n",
       "    </tr>\n",
       "    <tr>\n",
       "      <th>988</th>\n",
       "      <td>1</td>\n",
       "      <td>it was a riot to see hugo weaving play a sex-o...</td>\n",
       "    </tr>\n",
       "    <tr>\n",
       "      <th>989</th>\n",
       "      <td>1</td>\n",
       "      <td>:) anyway, the plot flowed smoothly and the ma...</td>\n",
       "    </tr>\n",
       "    <tr>\n",
       "      <th>990</th>\n",
       "      <td>1</td>\n",
       "      <td>the opening sequence of this gem is a classic,...</td>\n",
       "    </tr>\n",
       "    <tr>\n",
       "      <th>991</th>\n",
       "      <td>1</td>\n",
       "      <td>fans of the genre will be in heaven.</td>\n",
       "    </tr>\n",
       "    <tr>\n",
       "      <th>992</th>\n",
       "      <td>1</td>\n",
       "      <td>lange had become a great actress.</td>\n",
       "    </tr>\n",
       "    <tr>\n",
       "      <th>993</th>\n",
       "      <td>1</td>\n",
       "      <td>it looked like a wonderful story.</td>\n",
       "    </tr>\n",
       "    <tr>\n",
       "      <th>994</th>\n",
       "      <td>0</td>\n",
       "      <td>i never walked out of a movie faster.</td>\n",
       "    </tr>\n",
       "    <tr>\n",
       "      <th>995</th>\n",
       "      <td>0</td>\n",
       "      <td>i just got bored watching jessice lange take h...</td>\n",
       "    </tr>\n",
       "    <tr>\n",
       "      <th>996</th>\n",
       "      <td>0</td>\n",
       "      <td>unfortunately, any virtue in this film's produ...</td>\n",
       "    </tr>\n",
       "    <tr>\n",
       "      <th>997</th>\n",
       "      <td>0</td>\n",
       "      <td>in a word, it is embarrassing.</td>\n",
       "    </tr>\n",
       "    <tr>\n",
       "      <th>998</th>\n",
       "      <td>0</td>\n",
       "      <td>exceptionally bad!</td>\n",
       "    </tr>\n",
       "    <tr>\n",
       "      <th>999</th>\n",
       "      <td>0</td>\n",
       "      <td>all in all its an insult to one's intelligence...</td>\n",
       "    </tr>\n",
       "  </tbody>\n",
       "</table>\n",
       "<p>1000 rows × 2 columns</p>\n",
       "</div>"
      ],
      "text/plain": [
       "     label                                             review\n",
       "0        0  a very, very, very slow-moving, aimless movie ...\n",
       "1        0  not sure who was more lost - the flat characte...\n",
       "2        0  attempting artiness with black & white and cle...\n",
       "3        0       very little music or anything to speak of.  \n",
       "4        1  the best scene in the movie was when gerardo i...\n",
       "5        0  the rest of the movie lacks art, charm, meanin...\n",
       "6        0                                wasted two hours.  \n",
       "7        1  saw the movie today and thought it was a good ...\n",
       "8        0                               a bit predictable.  \n",
       "9        1  loved the casting of jimmy buffet as the scien...\n",
       "10       1               and those baby owls were adorable.  \n",
       "11       1  the movie showed a lot of florida at it's best...\n",
       "12       1  the songs were the best and the muppets were s...\n",
       "13       1                                  it was so cool.  \n",
       "14       1  this is a very \"right on case\" movie that deli...\n",
       "15       0  it had some average acting from the main perso...\n",
       "16       1  this review is long overdue, since i consider ...\n",
       "17       1  i'll put this gem up against any movie in term...\n",
       "18       1  it's practically perfect in all of them  a tr...\n",
       "19       1  \" the structure of this film is easily the mos...\n",
       "20       1  i can think of no other film where something v...\n",
       "21       1  in other words, the content level of this film...\n",
       "22       1  how can anyone in their right mind ask for any...\n",
       "23       1  it's quite simply the highest, most superlativ...\n",
       "24       1  yes, this film does require a rather significa...\n",
       "25       0      this short film certainly pulls no punches.  \n",
       "26       0  graphics is far from the best part of the game.  \n",
       "27       1  this is the number one best th game in the ser...\n",
       "28       1                         it deserves strong love.  \n",
       "29       1                            it is an insane game.  \n",
       "..     ...                                                ...\n",
       "970      1  enough can not be said of the remarkable anima...\n",
       "971      1  the art style has the appearance of crayon/pen...\n",
       "972      0  if you act in such a film, you should be glad ...\n",
       "973      0  this one wants to surf on the small wave of sp...\n",
       "974      0  if you haven't choked in your own vomit by the...\n",
       "975      1  still, it makes up for all of this with a supe...\n",
       "976      1  just consider the excellent story, solid actin...\n",
       "977      0  instead, we got a bore fest about a whiny, spo...\n",
       "978      1  then i watched it again two sundays ago (march...\n",
       "979      1       it is a very well acted and done tv movie.  \n",
       "980      1  judith light is one of my favorite actresses a...\n",
       "981      1                i keep watching it over and over.  \n",
       "982      1                 it's a sad movie, but very good.  \n",
       "983      1  if you have not seen this movie, i definitely ...\n",
       "984      1           she is as lovely as usual, this cutie!  \n",
       "985      1  still it's quite interesting and entertaining ...\n",
       "986      1                    ;) recommend with confidence!  \n",
       "987      1  this movie is well-balanced with comedy and dr...\n",
       "988      1  it was a riot to see hugo weaving play a sex-o...\n",
       "989      1  :) anyway, the plot flowed smoothly and the ma...\n",
       "990      1  the opening sequence of this gem is a classic,...\n",
       "991      1             fans of the genre will be in heaven.  \n",
       "992      1                lange had become a great actress.  \n",
       "993      1                it looked like a wonderful story.  \n",
       "994      0            i never walked out of a movie faster.  \n",
       "995      0  i just got bored watching jessice lange take h...\n",
       "996      0  unfortunately, any virtue in this film's produ...\n",
       "997      0                   in a word, it is embarrassing.  \n",
       "998      0                               exceptionally bad!  \n",
       "999      0  all in all its an insult to one's intelligence...\n",
       "\n",
       "[1000 rows x 2 columns]"
      ]
     },
     "execution_count": 86,
     "metadata": {},
     "output_type": "execute_result"
    }
   ],
   "source": [
    "#Lowercase:\n",
    "yelp['review'] = yelp['review'].str.lower()\n",
    "amazon['review'] = amazon['review'].str.lower()\n",
    "imdb['review'] = imdb['review'].str.lower()\n",
    "\n",
    "yelp.dropna()\n",
    "amazon.dropna()\n",
    "imdb.dropna()"
   ]
  },
  {
   "cell_type": "code",
   "execution_count": 87,
   "metadata": {
    "collapsed": false
   },
   "outputs": [],
   "source": [
    "punctuation = re.compile(r'([^A-Za-z0-9 ])')\n",
    "def puncRem(review):\n",
    "    return punctuation.sub(\"\", review)"
   ]
  },
  {
   "cell_type": "code",
   "execution_count": 88,
   "metadata": {
    "collapsed": false
   },
   "outputs": [],
   "source": [
    "#http://nlp.stanford.edu/IR-book/html/htmledition/dropping-common-terms-stop-words-1.html\n",
    "stop_words = (['a', 'an', 'and', 'are', 'as', 'at', 'be', 'by', 'for', 'from', 'has', 'he', 'in', 'is', 'it', 'its', 'of', 'on', 'that', 'the', 'to', 'was', 'were', 'will', 'with'])\n",
    "st = PorterStemmer()\n",
    "def StemStop(review):\n",
    "    return ' '.join([st.stem(word) for word in review.split() if word not in stop_words])"
   ]
  },
  {
   "cell_type": "code",
   "execution_count": 89,
   "metadata": {
    "collapsed": true
   },
   "outputs": [],
   "source": [
    "def cleanAll(file):\n",
    "    rev = list(file['review'])\n",
    "    def clean(revs):\n",
    "        return StemStop(puncRem(revs))\n",
    "    return [clean(row) for row in rev]"
   ]
  },
  {
   "cell_type": "code",
   "execution_count": 90,
   "metadata": {
    "collapsed": false
   },
   "outputs": [],
   "source": [
    "#Cleaned Files\n",
    "amazonCl = amazon\n",
    "yelpCl = yelp\n",
    "imdbCl = imdb\n",
    "\n",
    "amazonCl['review'] = cleanAll(amazon)\n",
    "yelpCl['review'] = cleanAll(yelp)\n",
    "imdbCl['review'] = cleanAll(imdb)"
   ]
  },
  {
   "cell_type": "markdown",
   "metadata": {},
   "source": [
    "### Split Train/Test"
   ]
  },
  {
   "cell_type": "code",
   "execution_count": 91,
   "metadata": {
    "collapsed": false
   },
   "outputs": [],
   "source": [
    "def train(file):\n",
    "    label0,label1=file[file.label==0],file[file.label==1]\n",
    "    train0,test0=label0[:400],label0[400:]\n",
    "    train1,test1 = label1[:400],label1[400:]\n",
    "    return train1.append(train0, ignore_index = True), test1.append(test0, ignore_index = True)"
   ]
  },
  {
   "cell_type": "code",
   "execution_count": 92,
   "metadata": {
    "collapsed": false
   },
   "outputs": [],
   "source": [
    "imdbTrain, imdbTest = train(imdbCl)\n",
    "yelpTrain, yelpTest = train(yelpCl)\n",
    "amazonTrain, amazonTest = train(amazonCl)"
   ]
  },
  {
   "cell_type": "code",
   "execution_count": 93,
   "metadata": {
    "collapsed": false
   },
   "outputs": [],
   "source": [
    "trainSet=imdbTrain.append(amazonTrain,ignore_index=True).append(yelpTrain, ignore_index=True)\n",
    "testSet=imdbTest.append(amazonTest,ignore_index=True).append(yelpTest, ignore_index=True)"
   ]
  },
  {
   "cell_type": "markdown",
   "metadata": {},
   "source": [
    "### Bag of Words"
   ]
  },
  {
   "cell_type": "code",
   "execution_count": 94,
   "metadata": {
    "collapsed": true
   },
   "outputs": [],
   "source": [
    "wDict={}\n",
    "wList=[]"
   ]
  },
  {
   "cell_type": "code",
   "execution_count": 95,
   "metadata": {
    "collapsed": false
   },
   "outputs": [],
   "source": [
    "def wordLoc(file):\n",
    "    p = 0\n",
    "    for review in file['review']:\n",
    "        for word in review.split(' '):\n",
    "            if not word in wDict:\n",
    "                wDict[word] = p\n",
    "                p += 1\n",
    "                wList.append(word)"
   ]
  },
  {
   "cell_type": "code",
   "execution_count": 96,
   "metadata": {
    "collapsed": false
   },
   "outputs": [],
   "source": [
    "wordLoc(trainSet)"
   ]
  },
  {
   "cell_type": "code",
   "execution_count": 97,
   "metadata": {
    "collapsed": false
   },
   "outputs": [],
   "source": [
    "def featureExt(file):\n",
    "    x=len(wDict)\n",
    "    y=len(file['review'])\n",
    "    num=np.zeros((y,x),dtype=np.int)\n",
    "    for p,review in enumerate(file['review']):\n",
    "        for word in review.split(' '):\n",
    "            if word in wDict:\n",
    "                num[p][wDict[word]]+=1\n",
    "    return num"
   ]
  },
  {
   "cell_type": "code",
   "execution_count": 98,
   "metadata": {
    "collapsed": false
   },
   "outputs": [],
   "source": [
    "def cen(file):\n",
    "    avg=np.mean(file,axis=0)\n",
    "    return file-avg"
   ]
  },
  {
   "cell_type": "code",
   "execution_count": 99,
   "metadata": {
    "collapsed": false
   },
   "outputs": [],
   "source": [
    "featureTrain = featureExt(trainSet)\n",
    "featureTest = featureExt(testSet)"
   ]
  },
  {
   "cell_type": "code",
   "execution_count": 100,
   "metadata": {
    "collapsed": false
   },
   "outputs": [],
   "source": [
    "trainL=trainSet['label']\n",
    "testL=testSet['label']"
   ]
  },
  {
   "cell_type": "code",
   "execution_count": 101,
   "metadata": {
    "collapsed": false
   },
   "outputs": [
    {
     "data": {
      "text/plain": [
       "(array([ 3743.,     0.,     0.,     0.,     0.,     0.,     0.,     0.,\n",
       "            0.,    13.]),\n",
       " array([ 0. ,  0.1,  0.2,  0.3,  0.4,  0.5,  0.6,  0.7,  0.8,  0.9,  1. ]),\n",
       " <a list of 10 Patch objects>)"
      ]
     },
     "execution_count": 101,
     "metadata": {},
     "output_type": "execute_result"
    },
    {
     "data": {
      "image/png": "[encoded data removed]",
      "text/plain": [
       "<matplotlib.figure.Figure at 0x116812908>"
      ]
     },
     "metadata": {},
     "output_type": "display_data"
    }
   ],
   "source": [
    "import matplotlib.pyplot as plt\n",
    "plt.xlabel('Label')\n",
    "plt.ylabel('Number of Occurences in Feature Vector')\n",
    "plt.hist(featureTrain[0])"
   ]
  },
  {
   "cell_type": "code",
   "execution_count": 102,
   "metadata": {
    "collapsed": false
   },
   "outputs": [
    {
     "data": {
      "text/plain": [
       "(array([  3.74800000e+03,   0.00000000e+00,   0.00000000e+00,\n",
       "          0.00000000e+00,   0.00000000e+00,   7.00000000e+00,\n",
       "          0.00000000e+00,   0.00000000e+00,   0.00000000e+00,\n",
       "          1.00000000e+00]),\n",
       " array([ 0. ,  0.2,  0.4,  0.6,  0.8,  1. ,  1.2,  1.4,  1.6,  1.8,  2. ]),\n",
       " <a list of 10 Patch objects>)"
      ]
     },
     "execution_count": 102,
     "metadata": {},
     "output_type": "execute_result"
    },
    {
     "data": {
      "image/png": "[encoded data removed]",
      "text/plain": [
       "<matplotlib.figure.Figure at 0x1168129e8>"
      ]
     },
     "metadata": {},
     "output_type": "display_data"
    }
   ],
   "source": [
    "plt.xlabel('Label')\n",
    "plt.ylabel('Number of Occurences in Feature Vector')\n",
    "plt.hist(featureTrain[1])"
   ]
  },
  {
   "cell_type": "markdown",
   "metadata": {},
   "source": [
    "### E -- PreProcess"
   ]
  },
  {
   "cell_type": "code",
   "execution_count": 103,
   "metadata": {
    "collapsed": false
   },
   "outputs": [],
   "source": [
    "def l2Norm(file,norm='l2'):\n",
    "    return preprocessing.normalize(file.astype(np.float64), norm=norm)"
   ]
  },
  {
   "cell_type": "code",
   "execution_count": 104,
   "metadata": {
    "collapsed": false
   },
   "outputs": [],
   "source": [
    "nFeatTrain = l2Norm(featureTrain)"
   ]
  },
  {
   "cell_type": "code",
   "execution_count": 105,
   "metadata": {
    "collapsed": true
   },
   "outputs": [],
   "source": [
    "nFeatTest = l2Norm(featureTest)"
   ]
  },
  {
   "cell_type": "markdown",
   "metadata": {},
   "source": [
    "#### F -- Clustering"
   ]
  },
  {
   "cell_type": "code",
   "execution_count": 106,
   "metadata": {
    "collapsed": true
   },
   "outputs": [],
   "source": [
    "#calc distance\n",
    "def l2D(a,b):\n",
    "    return np.linalg.norm(a-b)"
   ]
  },
  {
   "cell_type": "code",
   "execution_count": 107,
   "metadata": {
    "collapsed": true
   },
   "outputs": [],
   "source": [
    "def centPoint(cents,points):\n",
    "    r=[None for _ in range(len(cents))]\n",
    "    for point in points:\n",
    "        i=centers(cents,point)\n",
    "        if r[i] is None:\n",
    "            r[i]=point\n",
    "        else:\n",
    "            r[i]=np.vstack((r[i],point))\n",
    "    return r"
   ]
  },
  {
   "cell_type": "code",
   "execution_count": 108,
   "metadata": {
    "collapsed": true
   },
   "outputs": [],
   "source": [
    "def centers(cents,a):\n",
    "    resI,dist=-1,float('inf')\n",
    "    for i,cent in enumerate(cents):\n",
    "        newD=l2D(cent,a)\n",
    "        if newD < dist:\n",
    "            resI,dist = i,newD\n",
    "    return resI"
   ]
  },
  {
   "cell_type": "code",
   "execution_count": 109,
   "metadata": {
    "collapsed": false
   },
   "outputs": [],
   "source": [
    "#K-Centroids\n",
    "def kCen(s,feat,K=2):\n",
    "    def end(c1,c2):\n",
    "        for i in range(len(c1)):\n",
    "            cIn, next = c1[i],c2[i]\n",
    "            if not np.allclose(cIn,next,rtol=1e-4,atol=1e-6):\n",
    "                return False\n",
    "        return True\n",
    "    m=centPoint(s,feat)\n",
    "    c1, c2 = s,[np.mean(mat,axis=0) for mat in m]\n",
    "    t = 1\n",
    "    while not end(c1,c2):\n",
    "        print(\"rep \" + str(t))\n",
    "        t += 1\n",
    "        m=centPoint(c2,feat)\n",
    "        c1 = c2\n",
    "        c2 = [mat.mean(0) for mat in m]\n",
    "    l=np.zeros((feat.shape[0],1), dtype=np.int)\n",
    "    for index, point in enumerate(feat):\n",
    "        i=centers(c2, point)\n",
    "        l[index, 0] = i\n",
    "    return c2,l"
   ]
  },
  {
   "cell_type": "code",
   "execution_count": 110,
   "metadata": {
    "collapsed": false
   },
   "outputs": [],
   "source": [
    "#p1,p2=np.random.choice(nFeatTrain.shape[0],2,replace=False)\n",
    "#s=nFeatTrain[[p1,p2]]\n",
    "#cen,lab=kCen(s,nFeatTrain)"
   ]
  },
  {
   "cell_type": "code",
   "execution_count": 111,
   "metadata": {
    "collapsed": false
   },
   "outputs": [
    {
     "ename": "TypeError",
     "evalue": "'function' object is not subscriptable",
     "output_type": "error",
     "traceback": [
      "\u001b[0;31m---------------------------------------------------------------------------\u001b[0m",
      "\u001b[0;31mTypeError\u001b[0m                                 Traceback (most recent call last)",
      "\u001b[0;32m<ipython-input-111-a79be5c14967>\u001b[0m in \u001b[0;36m<module>\u001b[0;34m()\u001b[0m\n\u001b[0;32m----> 1\u001b[0;31m \u001b[0mprint\u001b[0m\u001b[0;34m(\u001b[0m\u001b[0mcen\u001b[0m\u001b[0;34m[\u001b[0m\u001b[0;36m0\u001b[0m\u001b[0;34m]\u001b[0m\u001b[0;34m)\u001b[0m\u001b[0;34m\u001b[0m\u001b[0m\n\u001b[0m",
      "\u001b[0;31mTypeError\u001b[0m: 'function' object is not subscriptable"
     ]
    }
   ],
   "source": [
    "print(cen[0])"
   ]
  },
  {
   "cell_type": "code",
   "execution_count": 112,
   "metadata": {
    "collapsed": false
   },
   "outputs": [
    {
     "ename": "TypeError",
     "evalue": "'function' object is not subscriptable",
     "output_type": "error",
     "traceback": [
      "\u001b[0;31m---------------------------------------------------------------------------\u001b[0m",
      "\u001b[0;31mTypeError\u001b[0m                                 Traceback (most recent call last)",
      "\u001b[0;32m<ipython-input-112-732e96e9ff71>\u001b[0m in \u001b[0;36m<module>\u001b[0;34m()\u001b[0m\n\u001b[0;32m----> 1\u001b[0;31m \u001b[0mprint\u001b[0m\u001b[0;34m(\u001b[0m\u001b[0mcen\u001b[0m\u001b[0;34m[\u001b[0m\u001b[0;36m1\u001b[0m\u001b[0;34m]\u001b[0m\u001b[0;34m)\u001b[0m\u001b[0;34m\u001b[0m\u001b[0m\n\u001b[0m",
      "\u001b[0;31mTypeError\u001b[0m: 'function' object is not subscriptable"
     ]
    }
   ],
   "source": [
    "print(cen[1])"
   ]
  },
  {
   "cell_type": "code",
   "execution_count": 113,
   "metadata": {
    "collapsed": false
   },
   "outputs": [
    {
     "data": {
      "text/plain": [
       "0.51249999999999996"
      ]
     },
     "execution_count": 113,
     "metadata": {},
     "output_type": "execute_result"
    }
   ],
   "source": [
    "accuracy_score(trainL,lab)"
   ]
  },
  {
   "cell_type": "markdown",
   "metadata": {},
   "source": [
    "#### G Sentiment Prediction"
   ]
  },
  {
   "cell_type": "code",
   "execution_count": 114,
   "metadata": {
    "collapsed": false
   },
   "outputs": [
    {
     "data": {
      "text/plain": [
       "LogisticRegression(C=1.0, class_weight=None, dual=False, fit_intercept=True,\n",
       "          intercept_scaling=1, max_iter=100, multi_class='ovr', n_jobs=1,\n",
       "          penalty='l2', random_state=None, solver='liblinear', tol=0.0001,\n",
       "          verbose=0, warm_start=False)"
      ]
     },
     "execution_count": 114,
     "metadata": {},
     "output_type": "execute_result"
    }
   ],
   "source": [
    "logreg = LogisticRegression()\n",
    "logreg.fit(nFeatTrain,trainL)"
   ]
  },
  {
   "cell_type": "code",
   "execution_count": 115,
   "metadata": {
    "collapsed": false
   },
   "outputs": [],
   "source": [
    "classification_accuracy=logreg.score(nFeatTest, testL)"
   ]
  },
  {
   "cell_type": "code",
   "execution_count": 116,
   "metadata": {
    "collapsed": false
   },
   "outputs": [
    {
     "data": {
      "text/plain": [
       "0.81499999999999995"
      ]
     },
     "execution_count": 116,
     "metadata": {},
     "output_type": "execute_result"
    }
   ],
   "source": [
    "classification_accuracy"
   ]
  },
  {
   "cell_type": "code",
   "execution_count": 117,
   "metadata": {
    "collapsed": false
   },
   "outputs": [],
   "source": [
    "pred=logreg.predict(nFeatTest)\n",
    "rank=logreg.coef_"
   ]
  },
  {
   "cell_type": "code",
   "execution_count": 118,
   "metadata": {
    "collapsed": false
   },
   "outputs": [],
   "source": [
    "cm=confusion_matrix(testL,pred)"
   ]
  },
  {
   "cell_type": "code",
   "execution_count": 119,
   "metadata": {
    "collapsed": false
   },
   "outputs": [
    {
     "data": {
      "text/plain": [
       "array([[260,  40],\n",
       "       [ 71, 229]])"
      ]
     },
     "execution_count": 119,
     "metadata": {},
     "output_type": "execute_result"
    }
   ],
   "source": [
    "cm"
   ]
  },
  {
   "cell_type": "code",
   "execution_count": null,
   "metadata": {
    "collapsed": true
   },
   "outputs": [],
   "source": [
    "print('Top Negative Words:')\n",
    "for negativeWords in rank.argsort()[0,:10]:\n",
    "    print(wList[negativeWords])"
   ]
  },
  {
   "cell_type": "code",
   "execution_count": 120,
   "metadata": {
    "collapsed": false,
    "scrolled": true
   },
   "outputs": [
    {
     "name": "stdout",
     "output_type": "stream",
     "text": [
      "Top 10 Positive Words:\n",
      "awesom\n",
      "fantast\n",
      "best\n",
      "amaz\n",
      "delici\n",
      "nice\n",
      "excel\n",
      "good\n",
      "love\n",
      "great\n"
     ]
    }
   ],
   "source": [
    "print('Top Positive Words:')\n",
    "for positiveWords in rank.argsort()[0,-10:]:\n",
    "    print(wList[positiveWords])"
   ]
  },
  {
   "cell_type": "markdown",
   "metadata": {},
   "source": [
    "#### H -- N-Gram Model "
   ]
  },
  {
   "cell_type": "code",
   "execution_count": 122,
   "metadata": {
    "collapsed": true
   },
   "outputs": [],
   "source": [
    "nD={}\n",
    "nL=[]"
   ]
  },
  {
   "cell_type": "code",
   "execution_count": 204,
   "metadata": {
    "collapsed": true
   },
   "outputs": [],
   "source": [
    "def nGram(file,n=2):\n",
    "    y=len(file['review'])\n",
    "    x=len(nD)\n",
    "    df=np.zeros((y,x),dtype=np.int)\n",
    "    for i,review in enumerate(file['review']):\n",
    "        sp=review.split(' ')\n",
    "        for spI in range(len(sp)-n+1):\n",
    "            gr=' '.join(sp[spI: (spI+n)])\n",
    "            if gr in nD:\n",
    "                df[i][nD[gr]] += 1\n",
    "    return df"
   ]
  },
  {
   "cell_type": "code",
   "execution_count": 205,
   "metadata": {
    "collapsed": true
   },
   "outputs": [],
   "source": [
    "nGrTrain=nGram(trainSet)"
   ]
  },
  {
   "cell_type": "code",
   "execution_count": 224,
   "metadata": {
    "collapsed": true
   },
   "outputs": [],
   "source": [
    "nGrTrain=nGram(trainSet)"
   ]
  },
  {
   "cell_type": "code",
   "execution_count": 225,
   "metadata": {
    "collapsed": false
   },
   "outputs": [],
   "source": [
    "nGrTest=nGram(testSet)"
   ]
  },
  {
   "cell_type": "code",
   "execution_count": 226,
   "metadata": {
    "collapsed": true
   },
   "outputs": [],
   "source": [
    "#clustering"
   ]
  },
  {
   "cell_type": "code",
   "execution_count": 227,
   "metadata": {
    "collapsed": false,
    "scrolled": true
   },
   "outputs": [],
   "source": [
    "normNTrain = l2Norm(nGrTrain)"
   ]
  },
  {
   "cell_type": "code",
   "execution_count": 228,
   "metadata": {
    "collapsed": false
   },
   "outputs": [],
   "source": [
    "normNTest = l2Norm(nGrTest)"
   ]
  },
  {
   "cell_type": "markdown",
   "metadata": {},
   "source": [
    "### N-Gram Clustering"
   ]
  },
  {
   "cell_type": "code",
   "execution_count": 238,
   "metadata": {
    "collapsed": false
   },
   "outputs": [
    {
     "ename": "IndexError",
     "evalue": "tuple index out of range",
     "output_type": "error",
     "traceback": [
      "\u001b[0;31m---------------------------------------------------------------------------\u001b[0m",
      "\u001b[0;31mIndexError\u001b[0m                                Traceback (most recent call last)",
      "\u001b[0;32m<ipython-input-238-391d039af12f>\u001b[0m in \u001b[0;36m<module>\u001b[0;34m()\u001b[0m\n\u001b[1;32m      1\u001b[0m \u001b[0mp1\u001b[0m\u001b[0;34m,\u001b[0m\u001b[0mp2\u001b[0m\u001b[0;34m=\u001b[0m\u001b[0mnp\u001b[0m\u001b[0;34m.\u001b[0m\u001b[0mrandom\u001b[0m\u001b[0;34m.\u001b[0m\u001b[0mchoice\u001b[0m\u001b[0;34m(\u001b[0m\u001b[0mnormNTrain\u001b[0m\u001b[0;34m.\u001b[0m\u001b[0mshape\u001b[0m\u001b[0;34m[\u001b[0m\u001b[0;36m0\u001b[0m\u001b[0;34m]\u001b[0m\u001b[0;34m,\u001b[0m\u001b[0;36m2\u001b[0m\u001b[0;34m,\u001b[0m\u001b[0mreplace\u001b[0m\u001b[0;34m=\u001b[0m\u001b[0;32mFalse\u001b[0m\u001b[0;34m)\u001b[0m\u001b[0;34m\u001b[0m\u001b[0m\n\u001b[1;32m      2\u001b[0m \u001b[0msN\u001b[0m\u001b[0;34m=\u001b[0m\u001b[0mnFeatTrain\u001b[0m\u001b[0;34m[\u001b[0m\u001b[0;34m[\u001b[0m\u001b[0mp1\u001b[0m\u001b[0;34m,\u001b[0m\u001b[0mp2\u001b[0m\u001b[0;34m]\u001b[0m\u001b[0;34m]\u001b[0m\u001b[0;34m\u001b[0m\u001b[0m\n\u001b[0;32m----> 3\u001b[0;31m \u001b[0mcenN\u001b[0m\u001b[0;34m,\u001b[0m\u001b[0mlabN\u001b[0m\u001b[0;34m=\u001b[0m\u001b[0mkCen\u001b[0m\u001b[0;34m(\u001b[0m\u001b[0msN\u001b[0m\u001b[0;34m,\u001b[0m\u001b[0mnormNTrain\u001b[0m\u001b[0;34m)\u001b[0m\u001b[0;34m\u001b[0m\u001b[0m\n\u001b[0m",
      "\u001b[0;32m<ipython-input-109-1385bf3fbaec>\u001b[0m in \u001b[0;36mkCen\u001b[0;34m(s, feat, K)\u001b[0m\n\u001b[1;32m      8\u001b[0m         \u001b[0;32mreturn\u001b[0m \u001b[0;32mTrue\u001b[0m\u001b[0;34m\u001b[0m\u001b[0m\n\u001b[1;32m      9\u001b[0m     \u001b[0mm\u001b[0m\u001b[0;34m=\u001b[0m\u001b[0mcentPoint\u001b[0m\u001b[0;34m(\u001b[0m\u001b[0ms\u001b[0m\u001b[0;34m,\u001b[0m\u001b[0mfeat\u001b[0m\u001b[0;34m)\u001b[0m\u001b[0;34m\u001b[0m\u001b[0m\n\u001b[0;32m---> 10\u001b[0;31m     \u001b[0mc1\u001b[0m\u001b[0;34m,\u001b[0m \u001b[0mc2\u001b[0m \u001b[0;34m=\u001b[0m \u001b[0ms\u001b[0m\u001b[0;34m,\u001b[0m\u001b[0;34m[\u001b[0m\u001b[0mnp\u001b[0m\u001b[0;34m.\u001b[0m\u001b[0mmean\u001b[0m\u001b[0;34m(\u001b[0m\u001b[0mmat\u001b[0m\u001b[0;34m,\u001b[0m\u001b[0maxis\u001b[0m\u001b[0;34m=\u001b[0m\u001b[0;36m0\u001b[0m\u001b[0;34m)\u001b[0m \u001b[0;32mfor\u001b[0m \u001b[0mmat\u001b[0m \u001b[0;32min\u001b[0m \u001b[0mm\u001b[0m\u001b[0;34m]\u001b[0m\u001b[0;34m\u001b[0m\u001b[0m\n\u001b[0m\u001b[1;32m     11\u001b[0m     \u001b[0mt\u001b[0m \u001b[0;34m=\u001b[0m \u001b[0;36m1\u001b[0m\u001b[0;34m\u001b[0m\u001b[0m\n\u001b[1;32m     12\u001b[0m     \u001b[0;32mwhile\u001b[0m \u001b[0;32mnot\u001b[0m \u001b[0mend\u001b[0m\u001b[0;34m(\u001b[0m\u001b[0mc1\u001b[0m\u001b[0;34m,\u001b[0m\u001b[0mc2\u001b[0m\u001b[0;34m)\u001b[0m\u001b[0;34m:\u001b[0m\u001b[0;34m\u001b[0m\u001b[0m\n",
      "\u001b[0;32m<ipython-input-109-1385bf3fbaec>\u001b[0m in \u001b[0;36m<listcomp>\u001b[0;34m(.0)\u001b[0m\n\u001b[1;32m      8\u001b[0m         \u001b[0;32mreturn\u001b[0m \u001b[0;32mTrue\u001b[0m\u001b[0;34m\u001b[0m\u001b[0m\n\u001b[1;32m      9\u001b[0m     \u001b[0mm\u001b[0m\u001b[0;34m=\u001b[0m\u001b[0mcentPoint\u001b[0m\u001b[0;34m(\u001b[0m\u001b[0ms\u001b[0m\u001b[0;34m,\u001b[0m\u001b[0mfeat\u001b[0m\u001b[0;34m)\u001b[0m\u001b[0;34m\u001b[0m\u001b[0m\n\u001b[0;32m---> 10\u001b[0;31m     \u001b[0mc1\u001b[0m\u001b[0;34m,\u001b[0m \u001b[0mc2\u001b[0m \u001b[0;34m=\u001b[0m \u001b[0ms\u001b[0m\u001b[0;34m,\u001b[0m\u001b[0;34m[\u001b[0m\u001b[0mnp\u001b[0m\u001b[0;34m.\u001b[0m\u001b[0mmean\u001b[0m\u001b[0;34m(\u001b[0m\u001b[0mmat\u001b[0m\u001b[0;34m,\u001b[0m\u001b[0maxis\u001b[0m\u001b[0;34m=\u001b[0m\u001b[0;36m0\u001b[0m\u001b[0;34m)\u001b[0m \u001b[0;32mfor\u001b[0m \u001b[0mmat\u001b[0m \u001b[0;32min\u001b[0m \u001b[0mm\u001b[0m\u001b[0;34m]\u001b[0m\u001b[0;34m\u001b[0m\u001b[0m\n\u001b[0m\u001b[1;32m     11\u001b[0m     \u001b[0mt\u001b[0m \u001b[0;34m=\u001b[0m \u001b[0;36m1\u001b[0m\u001b[0;34m\u001b[0m\u001b[0m\n\u001b[1;32m     12\u001b[0m     \u001b[0;32mwhile\u001b[0m \u001b[0;32mnot\u001b[0m \u001b[0mend\u001b[0m\u001b[0;34m(\u001b[0m\u001b[0mc1\u001b[0m\u001b[0;34m,\u001b[0m\u001b[0mc2\u001b[0m\u001b[0;34m)\u001b[0m\u001b[0;34m:\u001b[0m\u001b[0;34m\u001b[0m\u001b[0m\n",
      "\u001b[0;32m/Users/kiyanrajabi/anaconda/lib/python3.5/site-packages/numpy/core/fromnumeric.py\u001b[0m in \u001b[0;36mmean\u001b[0;34m(a, axis, dtype, out, keepdims)\u001b[0m\n\u001b[1;32m   2883\u001b[0m \u001b[0;34m\u001b[0m\u001b[0m\n\u001b[1;32m   2884\u001b[0m     return _methods._mean(a, axis=axis, dtype=dtype,\n\u001b[0;32m-> 2885\u001b[0;31m                           out=out, keepdims=keepdims)\n\u001b[0m\u001b[1;32m   2886\u001b[0m \u001b[0;34m\u001b[0m\u001b[0m\n\u001b[1;32m   2887\u001b[0m \u001b[0;34m\u001b[0m\u001b[0m\n",
      "\u001b[0;32m/Users/kiyanrajabi/anaconda/lib/python3.5/site-packages/numpy/core/_methods.py\u001b[0m in \u001b[0;36m_mean\u001b[0;34m(a, axis, dtype, out, keepdims)\u001b[0m\n\u001b[1;32m     54\u001b[0m     \u001b[0marr\u001b[0m \u001b[0;34m=\u001b[0m \u001b[0masanyarray\u001b[0m\u001b[0;34m(\u001b[0m\u001b[0ma\u001b[0m\u001b[0;34m)\u001b[0m\u001b[0;34m\u001b[0m\u001b[0m\n\u001b[1;32m     55\u001b[0m \u001b[0;34m\u001b[0m\u001b[0m\n\u001b[0;32m---> 56\u001b[0;31m     \u001b[0mrcount\u001b[0m \u001b[0;34m=\u001b[0m \u001b[0m_count_reduce_items\u001b[0m\u001b[0;34m(\u001b[0m\u001b[0marr\u001b[0m\u001b[0;34m,\u001b[0m \u001b[0maxis\u001b[0m\u001b[0;34m)\u001b[0m\u001b[0;34m\u001b[0m\u001b[0m\n\u001b[0m\u001b[1;32m     57\u001b[0m     \u001b[0;31m# Make this warning show up first\u001b[0m\u001b[0;34m\u001b[0m\u001b[0;34m\u001b[0m\u001b[0m\n\u001b[1;32m     58\u001b[0m     \u001b[0;32mif\u001b[0m \u001b[0mrcount\u001b[0m \u001b[0;34m==\u001b[0m \u001b[0;36m0\u001b[0m\u001b[0;34m:\u001b[0m\u001b[0;34m\u001b[0m\u001b[0m\n",
      "\u001b[0;32m/Users/kiyanrajabi/anaconda/lib/python3.5/site-packages/numpy/core/_methods.py\u001b[0m in \u001b[0;36m_count_reduce_items\u001b[0;34m(arr, axis)\u001b[0m\n\u001b[1;32m     48\u001b[0m     \u001b[0mitems\u001b[0m \u001b[0;34m=\u001b[0m \u001b[0;36m1\u001b[0m\u001b[0;34m\u001b[0m\u001b[0m\n\u001b[1;32m     49\u001b[0m     \u001b[0;32mfor\u001b[0m \u001b[0max\u001b[0m \u001b[0;32min\u001b[0m \u001b[0maxis\u001b[0m\u001b[0;34m:\u001b[0m\u001b[0;34m\u001b[0m\u001b[0m\n\u001b[0;32m---> 50\u001b[0;31m         \u001b[0mitems\u001b[0m \u001b[0;34m*=\u001b[0m \u001b[0marr\u001b[0m\u001b[0;34m.\u001b[0m\u001b[0mshape\u001b[0m\u001b[0;34m[\u001b[0m\u001b[0max\u001b[0m\u001b[0;34m]\u001b[0m\u001b[0;34m\u001b[0m\u001b[0m\n\u001b[0m\u001b[1;32m     51\u001b[0m     \u001b[0;32mreturn\u001b[0m \u001b[0mitems\u001b[0m\u001b[0;34m\u001b[0m\u001b[0m\n\u001b[1;32m     52\u001b[0m \u001b[0;34m\u001b[0m\u001b[0m\n",
      "\u001b[0;31mIndexError\u001b[0m: tuple index out of range"
     ]
    }
   ],
   "source": [
    "#p1,p2=np.random.choice(normNTrain.shape[0],2,replace=False)\n",
    "#sN=nFeatTrain[[p1,p2]]\n",
    "#cenN,labN=kCen(sN,normNTrain)"
   ]
  },
  {
   "cell_type": "code",
   "execution_count": 240,
   "metadata": {
    "collapsed": false,
    "scrolled": false
   },
   "outputs": [],
   "source": [
    "#accuracy_score(trainL,labN)"
   ]
  },
  {
   "cell_type": "markdown",
   "metadata": {},
   "source": [
    "##### N-Gram LogReg"
   ]
  },
  {
   "cell_type": "code",
   "execution_count": 242,
   "metadata": {
    "collapsed": true
   },
   "outputs": [],
   "source": [
    "logreg=LogisticRegression()"
   ]
  },
  {
   "cell_type": "code",
   "execution_count": 243,
   "metadata": {
    "collapsed": false,
    "scrolled": false
   },
   "outputs": [
    {
     "data": {
      "text/plain": [
       "LogisticRegression(C=1.0, class_weight=None, dual=False, fit_intercept=True,\n",
       "          intercept_scaling=1, max_iter=100, multi_class='ovr', n_jobs=1,\n",
       "          penalty='l2', random_state=None, solver='liblinear', tol=0.0001,\n",
       "          verbose=0, warm_start=False)"
      ]
     },
     "execution_count": 243,
     "metadata": {},
     "output_type": "execute_result"
    }
   ],
   "source": [
    "logreg.fit(nGrTrain,trainL)"
   ]
  },
  {
   "cell_type": "code",
   "execution_count": 244,
   "metadata": {
    "collapsed": false
   },
   "outputs": [
    {
     "data": {
      "text/plain": [
       "0.66666666666666663"
      ]
     },
     "execution_count": 244,
     "metadata": {},
     "output_type": "execute_result"
    }
   ],
   "source": [
    "logreg.score(nGrTest,testL)"
   ]
  },
  {
   "cell_type": "code",
   "execution_count": 245,
   "metadata": {
    "collapsed": true
   },
   "outputs": [],
   "source": [
    "pred=logreg.predict(normNTest)"
   ]
  },
  {
   "cell_type": "code",
   "execution_count": 246,
   "metadata": {
    "collapsed": true
   },
   "outputs": [],
   "source": [
    "rank=logreg.coef_"
   ]
  },
  {
   "cell_type": "code",
   "execution_count": 247,
   "metadata": {
    "collapsed": true
   },
   "outputs": [],
   "source": [
    "cm=confusion_matrix(testL,pred)"
   ]
  },
  {
   "cell_type": "code",
   "execution_count": 248,
   "metadata": {
    "collapsed": false
   },
   "outputs": [
    {
     "data": {
      "text/plain": [
       "array([[164, 136],\n",
       "       [ 66, 234]])"
      ]
     },
     "execution_count": 248,
     "metadata": {},
     "output_type": "execute_result"
    }
   ],
   "source": [
    "cm"
   ]
  },
  {
   "cell_type": "code",
   "execution_count": null,
   "metadata": {
    "collapsed": true
   },
   "outputs": [],
   "source": [
    "print('Top Negative Words:')\n",
    "for negativeNWords in rank.argsort()[0,:10]:\n",
    "    print(nL[negativeNWords])"
   ]
  },
  {
   "cell_type": "code",
   "execution_count": 249,
   "metadata": {
    "collapsed": false
   },
   "outputs": [
    {
     "name": "stdout",
     "output_type": "stream",
     "text": [
      "Top Positive Words:\n",
      "realli good\n",
      "one best\n",
      "great product\n",
      "love thi\n",
      "great phone\n",
      "i like\n",
      "highli recommend\n",
      "veri good\n",
      "i love\n",
      "work great\n"
     ]
    }
   ],
   "source": [
    "print('Top Positive Words:')\n",
    "for positiveNWords in rank.argsort()[0,-10:]:\n",
    "    print(nL[positiveNWords])"
   ]
  },
  {
   "cell_type": "markdown",
   "metadata": {},
   "source": [
    "### PCA "
   ]
  },
  {
   "cell_type": "code",
   "execution_count": 251,
   "metadata": {
    "collapsed": true
   },
   "outputs": [],
   "source": [
    "def pcaBow(file,n=10):\n",
    "    U,s,V=np.linalg.svd(file,full_matrices=True)\n",
    "    print(U.shape)\n",
    "    diag=np.diag(s[:n])\n",
    "    print(diag.shape)\n",
    "    return np.dot(U[:,:n], diag)"
   ]
  },
  {
   "cell_type": "code",
   "execution_count": 262,
   "metadata": {
    "collapsed": true
   },
   "outputs": [],
   "source": [
    "def orig(f,n=2):\n",
    "    p1,p2=np.random.choice(f.shape[0],2, replace=False)\n",
    "    st=f[[p1,p2]]\n",
    "    return st"
   ]
  },
  {
   "cell_type": "code",
   "execution_count": 274,
   "metadata": {
    "collapsed": false,
    "scrolled": true
   },
   "outputs": [
    {
     "name": "stdout",
     "output_type": "stream",
     "text": [
      "(2400, 2400)\n",
      "(10, 10)\n"
     ]
    }
   ],
   "source": [
    "#10 Dim\n",
    "pca10=pcaBow(featureTrain,10)"
   ]
  },
  {
   "cell_type": "code",
   "execution_count": 275,
   "metadata": {
    "collapsed": false
   },
   "outputs": [],
   "source": [
    "init10=orig(pca10)"
   ]
  },
  {
   "cell_type": "code",
   "execution_count": 276,
   "metadata": {
    "collapsed": false
   },
   "outputs": [
    {
     "name": "stdout",
     "output_type": "stream",
     "text": [
      "rep 1\n",
      "rep 2\n"
     ]
    }
   ],
   "source": [
    "cenP10,labP10=kCen(init10,pca10)"
   ]
  },
  {
   "cell_type": "code",
   "execution_count": 277,
   "metadata": {
    "collapsed": false
   },
   "outputs": [
    {
     "name": "stdout",
     "output_type": "stream",
     "text": [
      "[array([-1.30944559,  0.31371087, -0.07462802, -0.02299582,  0.02241633,\n",
      "       -0.00682884,  0.01095005,  0.02278861,  0.01550476, -0.00749205]), array([-0.22752417, -0.21678633,  0.19497451,  0.03130513,  0.03062976,\n",
      "       -0.03731632, -0.05776535, -0.02125374, -0.02901379,  0.00241722])]\n"
     ]
    }
   ],
   "source": [
    "print(cenP10)"
   ]
  },
  {
   "cell_type": "code",
   "execution_count": 278,
   "metadata": {
    "collapsed": false
   },
   "outputs": [
    {
     "data": {
      "text/plain": [
       "0.51500000000000001"
      ]
     },
     "execution_count": 278,
     "metadata": {},
     "output_type": "execute_result"
    }
   ],
   "source": [
    "accuracy_score(trainL, labP10)"
   ]
  },
  {
   "cell_type": "code",
   "execution_count": null,
   "metadata": {
    "collapsed": true
   },
   "outputs": [],
   "source": [
    "#50 Dim"
   ]
  },
  {
   "cell_type": "code",
   "execution_count": 285,
   "metadata": {
    "collapsed": false
   },
   "outputs": [
    {
     "name": "stdout",
     "output_type": "stream",
     "text": [
      "(2400, 2400)\n",
      "(50, 50)\n"
     ]
    }
   ],
   "source": [
    "pca50=pcaBow(featureTrain,50)"
   ]
  },
  {
   "cell_type": "code",
   "execution_count": 286,
   "metadata": {
    "collapsed": true
   },
   "outputs": [],
   "source": [
    "init50=orig(pca50)"
   ]
  },
  {
   "cell_type": "code",
   "execution_count": 287,
   "metadata": {
    "collapsed": false
   },
   "outputs": [
    {
     "name": "stdout",
     "output_type": "stream",
     "text": [
      "rep 1\n",
      "rep 2\n",
      "rep 3\n",
      "rep 4\n",
      "rep 5\n",
      "rep 6\n",
      "rep 7\n",
      "rep 8\n",
      "rep 9\n"
     ]
    }
   ],
   "source": [
    "cenP50,labP50=kCen(init50,pca50)"
   ]
  },
  {
   "cell_type": "code",
   "execution_count": 288,
   "metadata": {
    "collapsed": false
   },
   "outputs": [
    {
     "name": "stdout",
     "output_type": "stream",
     "text": [
      "[array([-0.26705591,  0.01729417,  0.22013331,  0.00234731,  0.04747285,\n",
      "       -0.05266547, -0.05774851, -0.02263913, -0.02524832, -0.00269532,\n",
      "       -0.01640023,  0.03682777,  0.02986614, -0.03191748,  0.01239044,\n",
      "        0.01983827, -0.0123185 , -0.00454153,  0.01553588,  0.01142822,\n",
      "       -0.00783259,  0.00541276,  0.00278651, -0.01580407,  0.01186352,\n",
      "        0.00935641, -0.0267716 , -0.0115688 , -0.01096688,  0.01124752,\n",
      "        0.00362975, -0.00039584, -0.00971327,  0.00151504,  0.00276035,\n",
      "        0.00943089,  0.00699666, -0.01147739, -0.00725691, -0.00578802,\n",
      "        0.00812835, -0.00091492,  0.00446555, -0.00050206, -0.00209186,\n",
      "        0.0120709 ,  0.01015445, -0.00816808,  0.00144158, -0.00585642]), array([ -1.16445938e+00,  -3.90171041e-01,  -1.41685450e-01,\n",
      "         6.37825189e-02,  -2.70103478e-02,   3.76084392e-02,\n",
      "         9.09210153e-03,   2.57128533e-02,   3.23499351e-03,\n",
      "         7.83724517e-03,  -2.61857197e-03,  -9.44419747e-03,\n",
      "        -1.89252411e-02,   3.11285998e-02,   5.14038891e-03,\n",
      "        -8.88636626e-03,   1.07952360e-02,   2.68295225e-03,\n",
      "        -4.12312276e-03,  -1.40566154e-02,  -4.30348363e-03,\n",
      "        -7.13957042e-03,   5.99828890e-03,   4.49711716e-06,\n",
      "        -1.02412249e-02,   1.87479365e-03,   7.83433501e-04,\n",
      "        -1.16227173e-03,   1.04041122e-02,   5.31993587e-03,\n",
      "        -3.83457339e-03,   6.62511608e-03,   1.01520397e-02,\n",
      "        -1.18783940e-02,  -6.10440538e-03,   1.35943837e-03,\n",
      "         2.77232052e-03,   1.07991617e-02,   2.84644308e-03,\n",
      "         8.75719128e-04,   1.83962569e-03,   5.10998727e-03,\n",
      "         5.72261130e-03,   1.76375803e-03,  -1.07606642e-04,\n",
      "        -2.15228860e-03,   6.78363027e-05,   2.82728148e-03,\n",
      "        -3.54139403e-03,   3.68337341e-03])]\n"
     ]
    }
   ],
   "source": [
    "print(cenP50)"
   ]
  },
  {
   "cell_type": "code",
   "execution_count": 289,
   "metadata": {
    "collapsed": false
   },
   "outputs": [
    {
     "data": {
      "text/plain": [
       "0.4975"
      ]
     },
     "execution_count": 289,
     "metadata": {},
     "output_type": "execute_result"
    }
   ],
   "source": [
    "accuracy_score(trainL,labP50)"
   ]
  },
  {
   "cell_type": "code",
   "execution_count": 290,
   "metadata": {
    "collapsed": true
   },
   "outputs": [],
   "source": [
    "#100 Dim"
   ]
  },
  {
   "cell_type": "code",
   "execution_count": 291,
   "metadata": {
    "collapsed": false
   },
   "outputs": [
    {
     "name": "stdout",
     "output_type": "stream",
     "text": [
      "(2400, 2400)\n",
      "(100, 100)\n"
     ]
    }
   ],
   "source": [
    "pca100=pcaBow(featureTrain,100)"
   ]
  },
  {
   "cell_type": "code",
   "execution_count": 292,
   "metadata": {
    "collapsed": true
   },
   "outputs": [],
   "source": [
    "init100=orig(pca100)"
   ]
  },
  {
   "cell_type": "code",
   "execution_count": 293,
   "metadata": {
    "collapsed": false
   },
   "outputs": [
    {
     "name": "stdout",
     "output_type": "stream",
     "text": [
      "rep 1\n",
      "rep 2\n",
      "rep 3\n",
      "rep 4\n",
      "rep 5\n",
      "rep 6\n"
     ]
    }
   ],
   "source": [
    "cenP100,labP100=kCen(init100,pca100)"
   ]
  },
  {
   "cell_type": "code",
   "execution_count": 294,
   "metadata": {
    "collapsed": false
   },
   "outputs": [
    {
     "name": "stdout",
     "output_type": "stream",
     "text": [
      "[array([ -2.26633595e-01,  -2.15357657e-01,   1.95660929e-01,\n",
      "         3.11633569e-02,   3.07608750e-02,  -3.73504289e-02,\n",
      "        -5.79346398e-02,  -2.12209210e-02,  -2.88889963e-02,\n",
      "         2.17122130e-03,  -1.91569918e-02,   3.10372280e-02,\n",
      "         1.93335096e-02,  -1.60089626e-02,   1.27355258e-02,\n",
      "         1.65678548e-02,  -8.16981466e-03,   1.76070530e-03,\n",
      "         1.40602478e-02,   2.58738937e-03,  -9.55183504e-03,\n",
      "         1.23966485e-03,   4.71616063e-03,  -1.43723489e-02,\n",
      "         8.50081371e-03,   8.75984799e-03,  -2.60533781e-02,\n",
      "        -1.32421136e-02,  -6.30573560e-03,   1.18774277e-02,\n",
      "         1.20906017e-03,   7.94095621e-04,  -3.89831560e-03,\n",
      "        -2.91812677e-03,   2.41566269e-03,   1.07146383e-02,\n",
      "         9.02156655e-03,  -6.20021536e-03,  -6.69803542e-03,\n",
      "        -2.90336810e-03,   8.24768550e-03,   1.15731108e-03,\n",
      "         6.97924184e-03,   1.45055590e-03,  -3.12006742e-04,\n",
      "         1.19589615e-02,   9.61611162e-03,  -4.99738521e-03,\n",
      "        -2.50477997e-03,  -4.13913225e-03,  -8.29972236e-04,\n",
      "        -4.03492821e-03,  -3.11962267e-03,   3.92374771e-03,\n",
      "        -1.50314763e-03,  -1.13741723e-02,   1.27838905e-03,\n",
      "        -1.22071537e-03,   4.13703657e-03,  -1.56101383e-03,\n",
      "         4.97714651e-03,   5.51364519e-03,  -6.73567833e-04,\n",
      "         4.64052104e-03,   4.33272862e-03,   1.24396794e-03,\n",
      "        -5.92716710e-03,   3.26774485e-03,  -5.38280505e-03,\n",
      "         6.80439960e-03,  -7.95786469e-03,  -5.15638656e-03,\n",
      "         9.92294327e-03,  -3.87929977e-03,  -1.63116445e-03,\n",
      "         5.81168542e-04,   1.94686170e-03,  -2.35506671e-03,\n",
      "        -3.10973047e-03,   8.50760787e-03,   4.65006858e-03,\n",
      "        -2.19552837e-03,  -2.37833978e-03,   3.53301072e-03,\n",
      "         1.79352206e-04,  -3.60560149e-03,   1.62187738e-03,\n",
      "         6.55402726e-03,   2.80614852e-03,   2.17085105e-03,\n",
      "         3.45374508e-03,  -2.35286308e-03,   6.37427046e-03,\n",
      "        -4.01864381e-03,   1.14210554e-02,  -4.36755342e-03,\n",
      "        -8.13410077e-05,  -4.99865983e-03,  -2.56541977e-03,\n",
      "        -1.93754927e-03]), array([ -1.31033488e+00,   3.08462802e-01,  -7.62650388e-02,\n",
      "        -2.24722369e-02,   2.20306284e-02,  -6.77632865e-03,\n",
      "         1.13500222e-02,   2.26143271e-02,   1.50494062e-02,\n",
      "        -6.72574229e-03,   6.13049180e-03,   7.03039763e-03,\n",
      "         1.19357976e-02,  -1.57533598e-02,   3.90546166e-03,\n",
      "         3.52706811e-04,  -1.26204771e-03,  -1.63385832e-02,\n",
      "        -1.23819934e-04,   1.22386626e-02,   1.02469040e-03,\n",
      "         5.25923734e-03,   1.99475972e-04,  -3.95839505e-03,\n",
      "        -5.53482100e-04,   3.50340305e-03,  -7.08141926e-04,\n",
      "         4.19991031e-03,  -3.25881899e-03,   3.25053215e-03,\n",
      "         3.35297881e-03,   3.17670620e-03,  -7.06488727e-03,\n",
      "         1.29165029e-03,  -5.27829412e-03,  -2.75658570e-03,\n",
      "        -3.50485824e-03,  -4.71804118e-03,   1.39899234e-03,\n",
      "        -7.74589455e-03,   1.31692055e-03,  -1.05214778e-03,\n",
      "        -1.90535639e-03,  -4.12898718e-03,  -5.48101549e-03,\n",
      "        -2.17097707e-03,   1.45312529e-03,  -6.55639920e-03,\n",
      "         8.35796851e-03,  -1.30825585e-03,  -5.28420423e-03,\n",
      "        -2.45793867e-03,  -1.97532711e-03,  -3.74377057e-03,\n",
      "        -5.67161272e-04,   2.29412289e-03,   7.63311159e-03,\n",
      "         1.09773838e-03,   1.31615175e-03,   1.86538060e-03,\n",
      "         4.08323429e-03,   5.70374642e-03,  -1.11177708e-03,\n",
      "        -2.04254635e-03,   3.98531240e-03,  -4.64458595e-03,\n",
      "         4.30741096e-03,  -7.56644043e-03,  -1.33838497e-03,\n",
      "         4.58557426e-03,  -6.29923475e-03,  -5.30430310e-05,\n",
      "         1.01616948e-03,  -1.46805471e-03,  -6.76491115e-04,\n",
      "        -1.55611153e-03,   1.17931057e-03,   3.07978088e-03,\n",
      "         6.82813994e-04,   4.94055010e-03,  -1.49817645e-03,\n",
      "        -2.71353302e-03,   1.93361139e-03,  -1.18341754e-03,\n",
      "         4.82408384e-03,  -3.93063732e-03,  -2.80320970e-03,\n",
      "        -3.32630282e-03,  -1.77024948e-04,   5.34418034e-03,\n",
      "         2.76633434e-04,   2.18443590e-03,  -3.26998198e-04,\n",
      "        -1.93674760e-03,  -1.44062631e-03,  -1.77745047e-03,\n",
      "         4.53978759e-04,   5.82962586e-04,   1.03974273e-03,\n",
      "        -5.92023972e-04])]\n"
     ]
    }
   ],
   "source": [
    "print(cenP100)"
   ]
  },
  {
   "cell_type": "code",
   "execution_count": 295,
   "metadata": {
    "collapsed": false
   },
   "outputs": [
    {
     "data": {
      "text/plain": [
       "0.48541666666666666"
      ]
     },
     "execution_count": 295,
     "metadata": {},
     "output_type": "execute_result"
    }
   ],
   "source": [
    "accuracy_score(trainL,labP100)"
   ]
  }
 ],
 "metadata": {
  "anaconda-cloud": {},
  "kernelspec": {
   "display_name": "Python [Root]",
   "language": "python",
   "name": "Python [Root]"
  },
  "language_info": {
   "codemirror_mode": {
    "name": "ipython",
    "version": 3
   },
   "file_extension": ".py",
   "mimetype": "text/x-python",
   "name": "python",
   "nbconvert_exporter": "python",
   "pygments_lexer": "ipython3",
   "version": "3.5.2"
  }
 },
 "nbformat": 4,
 "nbformat_minor": 0
}
