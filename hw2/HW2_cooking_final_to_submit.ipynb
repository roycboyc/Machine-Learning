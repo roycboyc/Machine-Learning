{
 "cells": [
  {
   "cell_type": "code",
   "execution_count": 40,
   "metadata": {
    "collapsed": false
   },
   "outputs": [],
   "source": [
    "import pandas as pd\n",
    "import numpy as np\n",
    "from sklearn import cross_validation\n",
    "from matplotlib import pyplot as plt\n",
    "from sklearn.naive_bayes import GaussianNB\n",
    "from sklearn import preprocessing\n",
    "from sklearn.metrics import pairwise_distances\n",
    "from pylab import *\n",
    "%matplotlib inline\n",
    "\n",
    "train=pd.read_json('train.json')"
   ]
  },
  {
   "cell_type": "code",
   "execution_count": 7,
   "metadata": {
    "collapsed": false
   },
   "outputs": [
    {
     "data": {
      "text/plain": [
       "(39774, 3)"
      ]
     },
     "execution_count": 7,
     "metadata": {},
     "output_type": "execute_result"
    }
   ],
   "source": [
    "train.shape"
   ]
  },
  {
   "cell_type": "code",
   "execution_count": 8,
   "metadata": {
    "collapsed": true
   },
   "outputs": [],
   "source": [
    "train_np=np.array(train)"
   ]
  },
  {
   "cell_type": "code",
   "execution_count": 9,
   "metadata": {
    "collapsed": false
   },
   "outputs": [],
   "source": [
    "#1b\n",
    "def create_ingredient_list(dataset):\n",
    "    ing_list=[]\n",
    "    for i in range(0,len(dataset)):\n",
    "        #make list of ingredients\n",
    "        ings=train_np[i][2]\n",
    "        for ing in ings:\n",
    "            if ing in ing_list:\n",
    "                continue\n",
    "            else:\n",
    "                ing_list.append(ing)\n",
    "    return ing_list"
   ]
  },
  {
   "cell_type": "code",
   "execution_count": 12,
   "metadata": {
    "collapsed": true
   },
   "outputs": [],
   "source": [
    "ing_list=create_ingredient_list(train_np)"
   ]
  },
  {
   "cell_type": "code",
   "execution_count": 13,
   "metadata": {
    "collapsed": false
   },
   "outputs": [
    {
     "data": {
      "text/plain": [
       "6714"
      ]
     },
     "execution_count": 13,
     "metadata": {},
     "output_type": "execute_result"
    }
   ],
   "source": [
    "len(ing_list)"
   ]
  },
  {
   "cell_type": "code",
   "execution_count": 10,
   "metadata": {
    "collapsed": false
   },
   "outputs": [],
   "source": [
    "#creates a list of the distinct cuisines\n",
    "cuisine_list=[]\n",
    "label_list=[]\n",
    "for i in range(0,39774):\n",
    "    cuisines=train_np[i][0]\n",
    "    #create the y, i.e. label matrix for the overall matrix\n",
    "    label_list.append(cuisines)\n",
    "    for cuisine in cuisines:\n",
    "        if cuisine in cuisine_list:\n",
    "            continue\n",
    "        else:\n",
    "            cuisine_list.append(cuisine)"
   ]
  },
  {
   "cell_type": "code",
   "execution_count": 11,
   "metadata": {
    "collapsed": false
   },
   "outputs": [
    {
     "data": {
      "text/plain": [
       "24"
      ]
     },
     "execution_count": 11,
     "metadata": {},
     "output_type": "execute_result"
    }
   ],
   "source": [
    "len(cuisine_list)"
   ]
  },
  {
   "cell_type": "code",
   "execution_count": 17,
   "metadata": {
    "collapsed": false
   },
   "outputs": [],
   "source": [
    "#turn label_list to a numpy array so we could comfortably implement cross validation later\n",
    "label_list=np.array(label_list)"
   ]
  },
  {
   "cell_type": "code",
   "execution_count": 27,
   "metadata": {
    "collapsed": false
   },
   "outputs": [],
   "source": [
    "#create a matrix of 39774 binary vectors, called ingredient_matrix\n",
    "ingredient_matrix= np.empty([39774,6714])\n",
    "#create binary vector, the length of ingredient list, and an empty ingredient matrix (6714x39774)\n",
    "bin_vec=np.zeros(6714)\n",
    "#iterate over the each recipe's ingredient list \n",
    "for i in range(0,39774):\n",
    "    ings=train_np[i][2] \n",
    "    for ing in ings:\n",
    "        #get the index of the ingredient from the list we composed, and +1 the binary vector at that index\n",
    "        ing_ix=ing_list.index(ing)\n",
    "        bin_vec[ing_ix]=1\n",
    "    #add the binary vector of that recipe's ingredients to the matrix\n",
    "    ingredient_matrix[i]=bin_vec\n",
    "    bin_vec=np.zeros(6714)"
   ]
  },
  {
   "cell_type": "code",
   "execution_count": 20,
   "metadata": {
    "collapsed": true
   },
   "outputs": [],
   "source": [
    "def getAccuracy(intake):\n",
    "    # get accuracy of the KNN classifier in the cross-validation test\n",
    "    train_i, test_i, classifier = intake\n",
    "    X_train = ingredient_matrix[train_i]\n",
    "    X_test = ingredient_matrix[test_i]\n",
    "    y_train = label_list[train_i]\n",
    "    y_test = label_list[test_i]\n",
    "    classifier.fit(X_train, y_train)\n",
    "    return classifier.score(X_test, y_test)"
   ]
  },
  {
   "cell_type": "code",
   "execution_count": 24,
   "metadata": {
    "collapsed": false
   },
   "outputs": [],
   "source": [
    "from sklearn.naive_bayes import GaussianNB, BernoulliNB\n",
    "def CrossValidation_3fold(size):\n",
    "    accGaus=0\n",
    "    accBern=0\n",
    "    for train, test in (cross_validation.KFold(size, n_folds=3)):\n",
    "        #question to self: implement Gaussian on original, non-binary dataset?\n",
    "        gnb=GaussianNB()\n",
    "        accGaus=float(getAccuracy([train,test,gnb])/3.0)+accGaus\n",
    "        brn=BernoulliNB()\n",
    "        accBern=float(getAccuracy([train,test,brn])/3.0)+accBern\n",
    "    return accGaus, accBern"
   ]
  },
  {
   "cell_type": "code",
   "execution_count": 28,
   "metadata": {
    "collapsed": true
   },
   "outputs": [],
   "source": [
    "gaus,ber=CrossValidation_3fold(39774)"
   ]
  },
  {
   "cell_type": "code",
   "execution_count": 144,
   "metadata": {
    "collapsed": false
   },
   "outputs": [
    {
     "name": "stdout",
     "output_type": "stream",
     "text": [
      "the accuracy of Naive Bayer classifier assuming Gaussian distribution is 0.3798461306381053\n"
     ]
    }
   ],
   "source": [
    "print (\"the accuracy of Naive Bayer classifier assuming Gaussian distribution is \" + str(gaus))"
   ]
  },
  {
   "cell_type": "code",
   "execution_count": 145,
   "metadata": {
    "collapsed": false
   },
   "outputs": [
    {
     "name": "stdout",
     "output_type": "stream",
     "text": [
      "and assuming Bernoullian distribution, it is 0.6835369839593705\n"
     ]
    }
   ],
   "source": [
    "print (\"and assuming Bernoullian distribution, it is \" + str(ber))"
   ]
  },
  {
   "cell_type": "code",
   "execution_count": 15,
   "metadata": {
    "collapsed": false
   },
   "outputs": [],
   "source": [
    "from sklearn.linear_model import LogisticRegression\n",
    "def logisticRegression_crossVal (size):\n",
    "    accuracy=0\n",
    "    for train, test in (cross_validation.KFold(size, n_folds=3)):\n",
    "            lgr=LogisticRegression()\n",
    "            accuracy=float(getAccuracy([train,test,lgr])/3.0)+accuracy\n",
    "    return accuracy"
   ]
  },
  {
   "cell_type": "code",
   "execution_count": 16,
   "metadata": {
    "collapsed": true
   },
   "outputs": [],
   "source": [
    "logReg=logisticRegression_crossVal(39774)"
   ]
  },
  {
   "cell_type": "code",
   "execution_count": 143,
   "metadata": {
    "collapsed": false
   },
   "outputs": [
    {
     "name": "stdout",
     "output_type": "stream",
     "text": [
      "the accuracy of logistic regession classifier is 0.7755568964650275\n"
     ]
    }
   ],
   "source": [
    "print (\"the accuracy of logistic regession classifier is \" + str(logReg))"
   ]
  },
  {
   "cell_type": "code",
   "execution_count": 33,
   "metadata": {
    "collapsed": true
   },
   "outputs": [],
   "source": [
    "test_data=pd.read_json('test.json')\n",
    "test_np=np.array(test_data)"
   ]
  },
  {
   "cell_type": "code",
   "execution_count": 41,
   "metadata": {
    "collapsed": false
   },
   "outputs": [],
   "source": [
    "from sklearn.linear_model import LogisticRegression"
   ]
  },
  {
   "cell_type": "code",
   "execution_count": 42,
   "metadata": {
    "collapsed": true
   },
   "outputs": [],
   "source": [
    "#this function creates a binary matrix with as many rows as the dataset \n",
    "#and as many columns as the ingredient list (in this exercise, we will only use the ingredient list we trained on)\n",
    "def create_binary_matrix(dataset,ing_list):\n",
    "    ingredient_matrix= np.empty([len(dataset),len(ing_list)])\n",
    "    bin_vec=np.zeros(len(ing_list))\n",
    "    for i in range(0,len(dataset)):\n",
    "        ings=dataset[i][1] \n",
    "        #iterate over the ingredient list of each recipe\n",
    "        for ing in ings:\n",
    "            #get the index of the ingredient from the list we composed, if it's in the ingredient list of our training array\n",
    "            if ing in ing_list:\n",
    "                ing_ix=ing_list.index(ing)\n",
    "                bin_vec[ing_ix]=1\n",
    "        ingredient_matrix[i]=bin_vec\n",
    "        bin_vec=np.zeros(6714)\n",
    "    return ingredient_matrix"
   ]
  },
  {
   "cell_type": "code",
   "execution_count": 43,
   "metadata": {
    "collapsed": false
   },
   "outputs": [],
   "source": [
    "#creating the matrix of binary vectors (representing ingredients) to match that of our training datatset's\n",
    "binary_test_matrix=create_binary_matrix(test_np, ing_list)"
   ]
  },
  {
   "cell_type": "code",
   "execution_count": 44,
   "metadata": {
    "collapsed": true
   },
   "outputs": [],
   "source": [
    "#returns the predicted list of labels using the best classifier, training it on the binary training matrix \n",
    "#and running it on the binary test matrix we created\n",
    "def kaggle(train_ingredient_list, labels_train, binary_test_matrix):\n",
    "    classifier=LogisticRegression()\n",
    "    classifier.fit(train_ingredient_list, labels_train)\n",
    "    labels_test=classifier.predict(binary_test_matrix)\n",
    "    return labels_test"
   ]
  },
  {
   "cell_type": "code",
   "execution_count": 45,
   "metadata": {
    "collapsed": false
   },
   "outputs": [],
   "source": [
    "#stores the label list received from the kaggle function\n",
    "result=kaggle(ingredient_matrix, label_list, binary_test_matrix)"
   ]
  },
  {
   "cell_type": "code",
   "execution_count": 49,
   "metadata": {
    "collapsed": true
   },
   "outputs": [],
   "source": [
    "test_ids=[]\n",
    "for i in range(0,len(test_np)):\n",
    "    test_ids.append(test_np[i][0])"
   ]
  },
  {
   "cell_type": "code",
   "execution_count": 50,
   "metadata": {
    "collapsed": false
   },
   "outputs": [
    {
     "name": "stdout",
     "output_type": "stream",
     "text": [
      "         id   the_cuisine\n",
      "0     18009       british\n",
      "1     28583   southern_us\n",
      "2     41580       italian\n",
      "3     29752  cajun_creole\n",
      "4     35687       italian\n",
      "5     38527   southern_us\n",
      "6     19666       spanish\n",
      "7     41217       chinese\n",
      "8     28753       mexican\n",
      "9     22659       british\n",
      "10    21749       italian\n",
      "11    44967         greek\n",
      "12    42969        indian\n",
      "13    44883       italian\n",
      "14    20827   southern_us\n",
      "15    23196        french\n",
      "16    35387       mexican\n",
      "17    33780   southern_us\n",
      "18    19001       mexican\n",
      "19    16526   southern_us\n",
      "20    42455      japanese\n",
      "21    47453        indian\n",
      "22    42478       spanish\n",
      "23    11885    vietnamese\n",
      "24    16585       italian\n",
      "25    29639   southern_us\n",
      "26    26245    vietnamese\n",
      "27    38516        korean\n",
      "28    47520       italian\n",
      "29    26212       italian\n",
      "...     ...           ...\n",
      "9914  49157    vietnamese\n",
      "9915  40847       italian\n",
      "9916  14084        french\n",
      "9917   6802       italian\n",
      "9918  22381   southern_us\n",
      "9919  21016     brazilian\n",
      "9920  29024       italian\n",
      "9921   4478          thai\n",
      "9922  36711        indian\n",
      "9923   8300       italian\n",
      "9924  47035   southern_us\n",
      "9925  15596       british\n",
      "9926  19902       british\n",
      "9927  31242   southern_us\n",
      "9928  21117        indian\n",
      "9929  15234  cajun_creole\n",
      "9930  24993          thai\n",
      "9931  31007       spanish\n",
      "9932  31687       mexican\n",
      "9933  13657       mexican\n",
      "9934  36612   southern_us\n",
      "9935  14008       chinese\n",
      "9936  32124        french\n",
      "9937  43570          thai\n",
      "9938  14059        indian\n",
      "9939  30246        french\n",
      "9940  36028   southern_us\n",
      "9941  22339       italian\n",
      "9942  42525   southern_us\n",
      "9943   1443       mexican\n",
      "\n",
      "[9944 rows x 2 columns]\n"
     ]
    }
   ],
   "source": [
    "#prints the dataframe to a csv file\n",
    "cooking_output = pd.DataFrame({'id': test_ids, 'the_cuisine': result})\n",
    "cooking_output.to_csv(\"cooking_submission.csv\", index=False, index_label=False)\n",
    "print (cooking_output)"
   ]
  }
 ],
 "metadata": {
  "anaconda-cloud": {},
  "kernelspec": {
   "display_name": "Python [Root]",
   "language": "python",
   "name": "Python [Root]"
  },
  "language_info": {
   "codemirror_mode": {
    "name": "ipython",
    "version": 3
   },
   "file_extension": ".py",
   "mimetype": "text/x-python",
   "name": "python",
   "nbconvert_exporter": "python",
   "pygments_lexer": "ipython3",
   "version": "3.5.2"
  }
 },
 "nbformat": 4,
 "nbformat_minor": 0
}
